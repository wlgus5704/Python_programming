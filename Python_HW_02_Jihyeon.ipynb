{
  "nbformat": 4,
  "nbformat_minor": 0,
  "metadata": {
    "colab": {
      "name": "Python_HW_02_Jihyeon",
      "provenance": [],
      "collapsed_sections": []
    },
    "kernelspec": {
      "name": "python3",
      "display_name": "Python 3"
    }
  },
  "cells": [
    {
      "cell_type": "markdown",
      "metadata": {
        "id": "GIZlRcJloOhl"
      },
      "source": [
        "# SCS2013 Python Programming Homework 2\n",
        "\n",
        "About Conditional (If), Loop (For, While) Statements and List, Tuple, Dictionary data structures"
      ]
    },
    {
      "cell_type": "markdown",
      "metadata": {
        "id": "edupFbFOSS-8"
      },
      "source": [
        "## HW 2-1. Loop \n",
        "\n",
        "Instruction:\n",
        "1. **(10pt)** Print squares of integers from $1$ to $10$ using `for` loop. The result will be `1, 4, 9, 16, 25, 36, 49, 64, 81, 100`.\n",
        "\n",
        "2. **(10pt)** Print squares of integers from $1$ to $10$ using `while` loop. The result will be `1, 4, 9, 16, 25, 36, 49, 64, 81, 100`."
      ]
    },
    {
      "cell_type": "code",
      "metadata": {
        "id": "o-jgIr5aSyd4",
        "colab": {
          "base_uri": "https://localhost:8080/"
        },
        "outputId": "84185085-abc7-41f5-8b48-c0a36ed75519"
      },
      "source": [
        "# 1\n",
        "for i in range(1,11):\n",
        "  print(i**2)"
      ],
      "execution_count": null,
      "outputs": [
        {
          "output_type": "stream",
          "name": "stdout",
          "text": [
            "1\n",
            "4\n",
            "9\n",
            "16\n",
            "25\n",
            "36\n",
            "49\n",
            "64\n",
            "81\n",
            "100\n"
          ]
        }
      ]
    },
    {
      "cell_type": "code",
      "metadata": {
        "id": "-tkJxf2hyo8y"
      },
      "source": [
        "i = 1\n",
        "while i>11:\n",
        "  print(i**2)\n",
        "  i= i+1"
      ],
      "execution_count": null,
      "outputs": []
    },
    {
      "cell_type": "code",
      "metadata": {
        "id": "TsX0G3On6Kpt",
        "colab": {
          "base_uri": "https://localhost:8080/"
        },
        "outputId": "2719bdb2-aa02-48cd-ed22-7ddc40ac2ef7"
      },
      "source": [
        "# 2\n",
        "x = 1\n",
        "while x<11:\n",
        "  print(x**2)\n",
        "  x = x+1"
      ],
      "execution_count": null,
      "outputs": [
        {
          "output_type": "stream",
          "name": "stdout",
          "text": [
            "1\n",
            "4\n",
            "9\n",
            "16\n",
            "25\n",
            "36\n",
            "49\n",
            "64\n",
            "81\n",
            "100\n"
          ]
        }
      ]
    },
    {
      "cell_type": "markdown",
      "metadata": {
        "id": "QR4DKh1VYgLm"
      },
      "source": [
        "## HW 2-2. If-Elif-Else\n",
        "\n",
        "Instruction: \n",
        "\n",
        "Use conditional statement `if-elif-else` to check if a person has a `normal` temperature, or `fever`, or `hypothermia`. The conditions below are applied in the order as it is described.\n",
        "\n",
        "1. **(1pt)** Create a variable called `temperature`, and assign a value $36.4$.\n",
        "2. **(5pt)** If `temperature` is **above or equal** to $37.5$, print `\"Fever\"`.\n",
        "3. **(5pt)** Else if `temperature` is **under or equal** to $35.0$, print `\"Hypothermia\"`.\n",
        "4. **(4pt)** Otherwise, print `\"Normal\"`. \n",
        "\n",
        "**Note**: Play yourself by assigning different values of `temperature`: i.e., $32.3$, $36.3$, $38.1$."
      ]
    },
    {
      "cell_type": "code",
      "metadata": {
        "id": "8ZgXwE-n8UuQ",
        "colab": {
          "base_uri": "https://localhost:8080/"
        },
        "outputId": "834ce539-b0ac-4677-865d-b71351db34a1"
      },
      "source": [
        "# 1\n",
        "temperature = 36.4\n",
        "\n",
        "# 2-4\n",
        "if temperature >= 37.5:\n",
        "  print('Fever')\n",
        "elif temperature <= 35.0:\n",
        "  print('Hypothermia')\n",
        "else:\n",
        "  print('Normal')"
      ],
      "execution_count": null,
      "outputs": [
        {
          "output_type": "stream",
          "name": "stdout",
          "text": [
            "Normal\n"
          ]
        }
      ]
    },
    {
      "cell_type": "markdown",
      "metadata": {
        "id": "Av0FlUTGaIVO"
      },
      "source": [
        "## HW 2-3. List\n",
        "\n",
        "Instruction:\n",
        "1. **(5pt)** Create a list called `animal` with elements of `cat, dog, chicken, duck`. Elements should be `string` type, and included in order as it is described.\n",
        "\n",
        "2. **(5pt)** Get the value `dog` **by using list index**.\n",
        "\n",
        "3. **(5pt)** Add new element `tiger` at third position using `insert` method and print the list `animal`."
      ]
    },
    {
      "cell_type": "code",
      "metadata": {
        "id": "3w1pE1-bcHTV",
        "colab": {
          "base_uri": "https://localhost:8080/"
        },
        "outputId": "1ec1eb1b-ecdc-4b14-fbf7-2f87f101bcf2"
      },
      "source": [
        "# 1\n",
        "animal = [\"cat\", \"dog\", \"chicken\", \"duck\"]\n",
        "animal"
      ],
      "execution_count": null,
      "outputs": [
        {
          "output_type": "execute_result",
          "data": {
            "text/plain": [
              "['cat', 'dog', 'chicken', 'duck']"
            ]
          },
          "metadata": {},
          "execution_count": 4
        }
      ]
    },
    {
      "cell_type": "code",
      "metadata": {
        "id": "8nVta04O9KWV",
        "colab": {
          "base_uri": "https://localhost:8080/"
        },
        "outputId": "7f81f890-6063-40b5-d852-cdc2f7582321"
      },
      "source": [
        "# 2\n",
        "print (animal[1])"
      ],
      "execution_count": null,
      "outputs": [
        {
          "output_type": "stream",
          "name": "stdout",
          "text": [
            "dog\n"
          ]
        }
      ]
    },
    {
      "cell_type": "code",
      "metadata": {
        "id": "VNbjTAc79Nbd",
        "colab": {
          "base_uri": "https://localhost:8080/"
        },
        "outputId": "9b02cf04-b3a4-4a03-d178-b5ba3a1623ab"
      },
      "source": [
        "# 3\n",
        "animal.insert(2, \"tiger\")\n",
        "print(animal)"
      ],
      "execution_count": null,
      "outputs": [
        {
          "output_type": "stream",
          "name": "stdout",
          "text": [
            "['cat', 'dog', 'tiger', 'chicken', 'duck']\n"
          ]
        }
      ]
    },
    {
      "cell_type": "markdown",
      "metadata": {
        "id": "prnl45fa9S1m"
      },
      "source": [
        "## HW 2-4. Dictionary\n",
        "\n",
        "Instruction: \n",
        "1. **(5pt)** Create a dictionary called `information` with key-value pairs `'name'-'Lee', 'age'-24, 'birth'-['May',4]`. Then, print `information`. \n",
        "\n",
        "2. **(5pt)** Add a key-value pair `'height'-163`. Then, print `information`.\n",
        "\n",
        "3. **(10pt)** Make a copy of `information`, called `information_cpy`. Delete or pop `'age'-24` key-value pair from `information_cpy`. Then, print `information` and `information_cpy` to check the task is performed correctly."
      ]
    },
    {
      "cell_type": "code",
      "metadata": {
        "id": "2Krl87cv9QWt",
        "colab": {
          "base_uri": "https://localhost:8080/"
        },
        "outputId": "33cf20a2-d41f-4aec-c886-cf9b280c52ae"
      },
      "source": [
        "# 1\n",
        "information = {'name':'Lee', 'age':24, 'birth':['May',4]}\n",
        "print(information)"
      ],
      "execution_count": null,
      "outputs": [
        {
          "output_type": "stream",
          "name": "stdout",
          "text": [
            "{'name': 'Lee', 'age': 24, 'birth': ['May', 4]}\n"
          ]
        }
      ]
    },
    {
      "cell_type": "code",
      "metadata": {
        "id": "pLYwkdYQ-0ul",
        "colab": {
          "base_uri": "https://localhost:8080/"
        },
        "outputId": "6211e53a-49fe-436a-d913-7751aa231fa5"
      },
      "source": [
        "# 2\n",
        "information_2 = {'height':163}\n",
        "information.update(information_2)\n",
        "print(information)"
      ],
      "execution_count": null,
      "outputs": [
        {
          "output_type": "stream",
          "name": "stdout",
          "text": [
            "{'name': 'Lee', 'age': 24, 'birth': ['May', 4], 'height': 163}\n"
          ]
        }
      ]
    },
    {
      "cell_type": "code",
      "metadata": {
        "id": "yrnPw5x5-3jA",
        "colab": {
          "base_uri": "https://localhost:8080/"
        },
        "outputId": "4fb4336d-f4f1-495c-deb3-e4fb417c5042"
      },
      "source": [
        "# 3\n",
        "information_cpy = information.copy()\n",
        "del information_cpy ['age']\n",
        "print(information)\n",
        "print(information_cpy)"
      ],
      "execution_count": null,
      "outputs": [
        {
          "output_type": "stream",
          "name": "stdout",
          "text": [
            "{'name': 'Lee', 'age': 24, 'birth': ['May', 4], 'height': 163}\n",
            "{'name': 'Lee', 'birth': ['May', 4], 'height': 163}\n"
          ]
        }
      ]
    },
    {
      "cell_type": "markdown",
      "metadata": {
        "id": "okWOt0hi_TfE"
      },
      "source": [
        "## HW 2-5. For loop, If statement and List\n",
        "\n",
        "Instruction: \n",
        "1. **(10pt)** Print numbers in range $[100,200]$ (i.e., from $100$ to $200$ both values included) that are multiple of $8$, using `for` loop. \n",
        "\n",
        "2. **(10pt)** Create a list called `multiples_8` that has multiples of $8$ in range $[100,200]$ as elements, using `for` loop. Then, print `multiples_8` to check the numbers are same as in 1. \n",
        "\n",
        "3. **(10pt)** Given list `lst`, print all elements having `string` type.\n"
      ]
    },
    {
      "cell_type": "code",
      "metadata": {
        "id": "Gc0ZETN3_Kr8",
        "colab": {
          "base_uri": "https://localhost:8080/"
        },
        "outputId": "15fc66a1-96fa-43b1-8820-64f8e8836d42"
      },
      "source": [
        "# 1\n",
        "i = range(100,200)\n",
        "for a in i:\n",
        "  if a%8 == 0:\n",
        "    print(a)"
      ],
      "execution_count": null,
      "outputs": [
        {
          "output_type": "stream",
          "name": "stdout",
          "text": [
            "104\n",
            "112\n",
            "120\n",
            "128\n",
            "136\n",
            "144\n",
            "152\n",
            "160\n",
            "168\n",
            "176\n",
            "184\n",
            "192\n"
          ]
        }
      ]
    },
    {
      "cell_type": "code",
      "metadata": {
        "id": "YFzO1icrBW8d",
        "colab": {
          "base_uri": "https://localhost:8080/"
        },
        "outputId": "aca16806-9c31-45bc-bd7e-0465520294d6"
      },
      "source": [
        "# 2\n",
        "multiples_8 = [i for i in range(100,200) if i%8 == 0 ]\n",
        "print(multiples_8)\n"
      ],
      "execution_count": null,
      "outputs": [
        {
          "output_type": "stream",
          "name": "stdout",
          "text": [
            "[104, 112, 120, 128, 136, 144, 152, 160, 168, 176, 184, 192]\n"
          ]
        }
      ]
    },
    {
      "cell_type": "code",
      "metadata": {
        "id": "0EL9oLpqBfWQ",
        "colab": {
          "base_uri": "https://localhost:8080/"
        },
        "outputId": "7014965e-8649-45c5-c19f-47104bada341"
      },
      "source": [
        "lst = ['Kim', 3, 'Lee', 6, 'Park', 8, 10]\n",
        "a = str(lst)\n",
        "# 3\n",
        "print(a)\n",
        "#print(type(a[1]))"
      ],
      "execution_count": null,
      "outputs": [
        {
          "output_type": "stream",
          "name": "stdout",
          "text": [
            "['Kim', 3, 'Lee', 6, 'Park', 8, 10]\n",
            "<class 'str'>\n"
          ]
        }
      ]
    }
  ]
}