{
  "nbformat": 4,
  "nbformat_minor": 0,
  "metadata": {
    "colab": {
      "name": "Python_HW_01_Jihyeon.ipynb",
      "provenance": [],
      "collapsed_sections": []
    },
    "kernelspec": {
      "name": "python3",
      "display_name": "Python 3"
    }
  },
  "cells": [
    {
      "cell_type": "markdown",
      "metadata": {
        "id": "GIZlRcJloOhl"
      },
      "source": [
        "# SCS2013 Python Programming Homework 1\n",
        "\n",
        "About Variables, basic Data Types, and basic Operators.\n"
      ]
    },
    {
      "cell_type": "markdown",
      "metadata": {
        "id": "edupFbFOSS-8"
      },
      "source": [
        "## HW 1-1. Variable (변수)\n",
        "\n",
        "Instruction:\n",
        "1. **(5pt)** Create a variable with the name `year`, and assign it the value of `2021`. \n",
        "2. **(5pt)** Print the value using `print()`.\n"
      ]
    },
    {
      "cell_type": "code",
      "metadata": {
        "id": "o-jgIr5aSyd4"
      },
      "source": [
        "# 1\n",
        "year = 2021"
      ],
      "execution_count": null,
      "outputs": []
    },
    {
      "cell_type": "code",
      "metadata": {
        "id": "f8XNx_6Rf1YI",
        "colab": {
          "base_uri": "https://localhost:8080/"
        },
        "outputId": "abf320fb-1c84-4b33-aba4-3e3fa4a9429d"
      },
      "source": [
        "# 2\n",
        "print(year)"
      ],
      "execution_count": null,
      "outputs": [
        {
          "output_type": "stream",
          "name": "stdout",
          "text": [
            "2021\n"
          ]
        }
      ]
    },
    {
      "cell_type": "markdown",
      "metadata": {
        "id": "QR4DKh1VYgLm"
      },
      "source": [
        "## HW 1-2. Mathematical Operators\n",
        "\n",
        "Instruction: \n",
        "1. **(5pt)** Create a variable called `a` and set it equal to 4235 plus 1865\n",
        "\n",
        "2. **(5pt)** Create a variable called `b` and set it equal to 9621.3 minus 4025.51\n",
        "\n",
        "3. **(5pt)** Create a variable called `c` and set it equal to 862 multiplied by 42\n",
        "\n",
        "4. **(5pt)** Create a variable called `d` and set it equal to 993 divided by 31\n",
        "\n",
        "5. **(5pt)** Create a variable called `e` and set it equal to the remainder from dividing 200 by 7\n",
        "\n",
        "**Hint**: You need to use mathematical operators (`* - / + %`) for this to work.\n"
      ]
    },
    {
      "cell_type": "code",
      "metadata": {
        "id": "iQ2nm8IPUv7r"
      },
      "source": [
        "# 1\n",
        "a = 4235+1865"
      ],
      "execution_count": null,
      "outputs": []
    },
    {
      "cell_type": "code",
      "metadata": {
        "id": "D5_d-hnIf3_O"
      },
      "source": [
        "# 2\n",
        "b = 9621.3-4025.51"
      ],
      "execution_count": null,
      "outputs": []
    },
    {
      "cell_type": "code",
      "metadata": {
        "id": "cV3V_Ymbf5AN"
      },
      "source": [
        "# 3\n",
        "c = 862*41"
      ],
      "execution_count": null,
      "outputs": []
    },
    {
      "cell_type": "code",
      "metadata": {
        "id": "cOIUexEXf5vA"
      },
      "source": [
        "# 4\n",
        "d = 993/31"
      ],
      "execution_count": null,
      "outputs": []
    },
    {
      "cell_type": "code",
      "metadata": {
        "id": "JK4pxaHDf6md"
      },
      "source": [
        "# 5\n",
        "e = 200%7"
      ],
      "execution_count": null,
      "outputs": []
    },
    {
      "cell_type": "markdown",
      "metadata": {
        "id": "Av0FlUTGaIVO"
      },
      "source": [
        "## HW 1-3. Python Operators\n",
        "\n",
        "1. **(5pt)** Compute the value of `20` divided by `4` using Python operator, and print it. \n",
        "  * **note**: Is it `5` or `5.0`? The result of the division is always of type `float`. \n",
        "\n",
        "2. **(10pt)** Create a variable called `result` and set it equal to the value of $1 + 3 \\times 2^4$. Then print `result` using `print()`.\n",
        "\n",
        "3. **(10pt)** Create a variable called `x` and set it equal to a string `'hi'`. Create another variable called `y` and set it equal to a string `'Hi'`. Check whether two variables `x` and `y` have the same value."
      ]
    },
    {
      "cell_type": "code",
      "metadata": {
        "id": "3w1pE1-bcHTV",
        "colab": {
          "base_uri": "https://localhost:8080/"
        },
        "outputId": "53ac2dbf-0ac3-476a-92c4-0d5a53b2fe39"
      },
      "source": [
        "# 1\n",
        "20/4"
      ],
      "execution_count": null,
      "outputs": [
        {
          "output_type": "execute_result",
          "data": {
            "text/plain": [
              "5.0"
            ]
          },
          "metadata": {},
          "execution_count": 11
        }
      ]
    },
    {
      "cell_type": "code",
      "metadata": {
        "id": "KVe2lbe8gBGE",
        "colab": {
          "base_uri": "https://localhost:8080/"
        },
        "outputId": "4b4cd1a1-4770-487a-ade7-ac886b7fa523"
      },
      "source": [
        "# 2\n",
        "result = 1+3*2**4\n",
        "print(result)"
      ],
      "execution_count": null,
      "outputs": [
        {
          "output_type": "stream",
          "name": "stdout",
          "text": [
            "49\n"
          ]
        }
      ]
    },
    {
      "cell_type": "code",
      "metadata": {
        "id": "3bNoCbYngB9S",
        "colab": {
          "base_uri": "https://localhost:8080/"
        },
        "outputId": "748d0c59-7b40-44cb-ec95-b745ff00fb23"
      },
      "source": [
        "# 3\n",
        "x = 'hi'\n",
        "y = 'hi'\n",
        "x == y"
      ],
      "execution_count": null,
      "outputs": [
        {
          "output_type": "execute_result",
          "data": {
            "text/plain": [
              "True"
            ]
          },
          "metadata": {},
          "execution_count": 14
        }
      ]
    }
  ]
}